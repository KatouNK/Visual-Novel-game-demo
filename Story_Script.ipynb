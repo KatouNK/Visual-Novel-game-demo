{
  "nbformat": 4,
  "nbformat_minor": 0,
  "metadata": {
    "colab": {
      "provenance": [],
      "authorship_tag": "ABX9TyNsRmFhQUb6s7FSINg7HMAQ",
      "include_colab_link": true
    },
    "kernelspec": {
      "name": "python3",
      "display_name": "Python 3"
    },
    "language_info": {
      "name": "python"
    }
  },
  "cells": [
    {
      "cell_type": "markdown",
      "metadata": {
        "id": "view-in-github",
        "colab_type": "text"
      },
      "source": [
        "<a href=\"https://colab.research.google.com/github/KatouNK/Visual-Novel-game-demo/blob/main/Story_Script.ipynb\" target=\"_parent\"><img src=\"https://colab.research.google.com/assets/colab-badge.svg\" alt=\"Open In Colab\"/></a>"
      ]
    },
    {
      "cell_type": "markdown",
      "source": [
        "disini kita akan menulis sripting dari game nya\n",
        "# Insert your title here\n",
        "\n",
        "masukkan plot cerita disini\n"
      ],
      "metadata": {
        "id": "StyAxxQNh3yF"
      }
    }
  ]
}